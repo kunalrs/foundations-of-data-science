{
 "cells": [
  {
   "cell_type": "code",
   "execution_count": 2,
   "metadata": {},
   "outputs": [],
   "source": [
    "# Printing Basic Types\n"
   ]
  },
  {
   "cell_type": "code",
   "execution_count": 3,
   "metadata": {},
   "outputs": [
    {
     "name": "stdout",
     "output_type": "stream",
     "text": "Hello World\nHi this is Kunal Sagar\nWhats'up\n"
    }
   ],
   "source": [
    "print(\"Hello World\")\n",
    "print(\"Hi this is \" + \"Kunal Sagar\")\n",
    "print(\"Whats'up\")"
   ]
  },
  {
   "cell_type": "code",
   "execution_count": 4,
   "metadata": {},
   "outputs": [
    {
     "name": "stdout",
     "output_type": "stream",
     "text": "1729\n1729\n"
    }
   ],
   "source": [
    "print(1729)\n",
    "print(1000 + 729) # Ramanujan's entry"
   ]
  },
  {
   "cell_type": "code",
   "execution_count": 5,
   "metadata": {},
   "outputs": [
    {
     "name": "stdout",
     "output_type": "stream",
     "text": "1.6176470588235294\n1.0\n"
    }
   ],
   "source": [
    "print(55/34) # check golden ratio \n",
    "print(1.)"
   ]
  },
  {
   "cell_type": "code",
   "execution_count": 6,
   "metadata": {},
   "outputs": [
    {
     "name": "stdout",
     "output_type": "stream",
     "text": "True\nFalse\n"
    }
   ],
   "source": [
    "print(True)\n",
    "print(False)"
   ]
  },
  {
   "cell_type": "code",
   "execution_count": 7,
   "metadata": {},
   "outputs": [
    {
     "name": "stdout",
     "output_type": "stream",
     "text": "True\n"
    }
   ],
   "source": [
    "print(True or False)"
   ]
  },
  {
   "cell_type": "code",
   "execution_count": 8,
   "metadata": {},
   "outputs": [
    {
     "name": "stdout",
     "output_type": "stream",
     "text": "False\n"
    }
   ],
   "source": [
    "print(False and True)"
   ]
  },
  {
   "cell_type": "markdown",
   "metadata": {
    "pycharm": {
     "name": "#%% md\n"
    }
   },
   "source": [
    "# Variables & Inputs"
   ]
  },
  {
   "cell_type": "code",
   "execution_count": 9,
   "metadata": {},
   "outputs": [],
   "source": [
    "school = \"Padhai\"\n"
   ]
  },
  {
   "cell_type": "code",
   "execution_count": 10,
   "metadata": {},
   "outputs": [
    {
     "name": "stdout",
     "output_type": "stream",
     "text": "Padhai\n"
    }
   ],
   "source": [
    "print(school)\n"
   ]
  },
  {
   "cell_type": "code",
   "execution_count": 11,
   "metadata": {},
   "outputs": [
    {
     "name": "stdout",
     "output_type": "stream",
     "text": "<class 'str'>\n"
    }
   ],
   "source": [
    "print(type(school)) #type of variable"
   ]
  },
  {
   "cell_type": "code",
   "execution_count": 12,
   "metadata": {},
   "outputs": [
    {
     "name": "stdout",
     "output_type": "stream",
     "text": "4478178928\n"
    }
   ],
   "source": [
    "print(id(school)) #reference in memory"
   ]
  },
  {
   "cell_type": "code",
   "execution_count": 13,
   "metadata": {},
   "outputs": [],
   "source": [
    "another_school = \"Padhai\""
   ]
  },
  {
   "cell_type": "code",
   "execution_count": 14,
   "metadata": {},
   "outputs": [
    {
     "name": "stdout",
     "output_type": "stream",
     "text": "4478178928\n"
    }
   ],
   "source": [
    "print(id(another_school)) #Same reference number as above of school because the value of String is same"
   ]
  },
  {
   "cell_type": "code",
   "execution_count": 15,
   "metadata": {},
   "outputs": [],
   "source": [
    "another_school = \"IIT Madress\"\n"
   ]
  },
  {
   "cell_type": "code",
   "execution_count": 16,
   "metadata": {},
   "outputs": [
    {
     "name": "stdout",
     "output_type": "stream",
     "text": "4478196272\n"
    }
   ],
   "source": [
    "print(id(another_school))\n",
    "# now the ID is difference because IIT Madress is different object"
   ]
  },
  {
   "cell_type": "code",
   "execution_count": 17,
   "metadata": {},
   "outputs": [
    {
     "name": "stdout",
     "output_type": "stream",
     "text": "I am studying at Padhai\n"
    }
   ],
   "source": [
    "print(\"I am studying at \" + school)\n"
   ]
  },
  {
   "cell_type": "code",
   "execution_count": 18,
   "metadata": {},
   "outputs": [],
   "source": [
    "r_no = 1729\n"
   ]
  },
  {
   "cell_type": "code",
   "execution_count": 19,
   "metadata": {},
   "outputs": [
    {
     "name": "stdout",
     "output_type": "stream",
     "text": "<class 'int'>\n"
    }
   ],
   "source": [
    "print(type(r_no))"
   ]
  },
  {
   "cell_type": "code",
   "execution_count": 20,
   "metadata": {},
   "outputs": [],
   "source": [
    "golden_ratio = 55 / 34"
   ]
  },
  {
   "cell_type": "code",
   "execution_count": 21,
   "metadata": {},
   "outputs": [
    {
     "name": "stdout",
     "output_type": "stream",
     "text": "<class 'float'>\n"
    }
   ],
   "source": [
    "print(type(golden_ratio))\n"
   ]
  },
  {
   "cell_type": "code",
   "execution_count": 22,
   "metadata": {},
   "outputs": [],
   "source": [
    "is_good = True\n"
   ]
  },
  {
   "cell_type": "code",
   "execution_count": 23,
   "metadata": {},
   "outputs": [
    {
     "name": "stdout",
     "output_type": "stream",
     "text": "<class 'bool'>\n"
    }
   ],
   "source": [
    "print(type(is_good))"
   ]
  },
  {
   "cell_type": "code",
   "execution_count": 24,
   "metadata": {},
   "outputs": [],
   "source": [
    "my_name = input(\"what is your name?\")"
   ]
  },
  {
   "cell_type": "code",
   "execution_count": 25,
   "metadata": {},
   "outputs": [
    {
     "name": "stdout",
     "output_type": "stream",
     "text": "Kunal <class 'str'>\n"
    }
   ],
   "source": [
    "print(my_name, type(my_name))"
   ]
  },
  {
   "cell_type": "code",
   "execution_count": 26,
   "metadata": {},
   "outputs": [
    {
     "name": "stdout",
     "output_type": "stream",
     "text": "Kunal is studying at Padhai\n"
    }
   ],
   "source": [
    "print(my_name + \" is studying at \" + school)"
   ]
  },
  {
   "cell_type": "code",
   "execution_count": 27,
   "metadata": {},
   "outputs": [],
   "source": [
    "hours_per_day = input(\"How many hours per day you study?\")\n"
   ]
  },
  {
   "cell_type": "code",
   "execution_count": 28,
   "metadata": {},
   "outputs": [
    {
     "name": "stdout",
     "output_type": "stream",
     "text": "<class 'str'>\n"
    }
   ],
   "source": [
    "print(type(hours_per_day))"
   ]
  },
  {
   "cell_type": "code",
   "execution_count": 29,
   "metadata": {},
   "outputs": [],
   "source": [
    "hours_per_week = int(hours_per_day) * 7"
   ]
  },
  {
   "cell_type": "code",
   "execution_count": 30,
   "metadata": {},
   "outputs": [
    {
     "name": "stdout",
     "output_type": "stream",
     "text": "21\n"
    }
   ],
   "source": [
    "print(hours_per_week)"
   ]
  },
  {
   "cell_type": "code",
   "execution_count": 31,
   "metadata": {},
   "outputs": [],
   "source": [
    "hours_per_week = int(hours_per_week)"
   ]
  },
  {
   "cell_type": "code",
   "execution_count": 32,
   "metadata": {},
   "outputs": [
    {
     "name": "stdout",
     "output_type": "stream",
     "text": "Kunal studies 21 hours per week\n"
    }
   ],
   "source": [
    "print(my_name + \" studies \" + str(hours_per_week) + \" hours per week\")"
   ]
  },
  {
   "cell_type": "markdown",
   "metadata": {},
   "source": [
    "# String processing"
   ]
  },
  {
   "cell_type": "code",
   "execution_count": 33,
   "metadata": {},
   "outputs": [],
   "source": [
    "topic = \"Foundations of Data Science\""
   ]
  },
  {
   "cell_type": "code",
   "execution_count": 34,
   "metadata": {},
   "outputs": [
    {
     "name": "stdout",
     "output_type": "stream",
     "text": "Foundations of Data Science\n"
    }
   ],
   "source": [
    "print(topic)"
   ]
  },
  {
   "cell_type": "code",
   "execution_count": 35,
   "metadata": {},
   "outputs": [
    {
     "name": "stdout",
     "output_type": "stream",
     "text": "F\n"
    }
   ],
   "source": [
    "print(topic[0])"
   ]
  },
  {
   "cell_type": "code",
   "execution_count": 36,
   "metadata": {},
   "outputs": [
    {
     "name": "stdout",
     "output_type": "stream",
     "text": "c\n"
    }
   ],
   "source": [
    "print(topic[-2])"
   ]
  },
  {
   "cell_type": "code",
   "execution_count": 37,
   "metadata": {},
   "outputs": [
    {
     "name": "stdout",
     "output_type": "stream",
     "text": "Foundation\n"
    }
   ],
   "source": [
    "print(topic[0:10])"
   ]
  },
  {
   "cell_type": "code",
   "execution_count": 38,
   "metadata": {},
   "outputs": [
    {
     "name": "stdout",
     "output_type": "stream",
     "text": "oundation\n"
    }
   ],
   "source": [
    "print(topic[1:10])"
   ]
  },
  {
   "cell_type": "code",
   "execution_count": 39,
   "metadata": {},
   "outputs": [
    {
     "name": "stdout",
     "output_type": "stream",
     "text": "foundations of data science\n"
    }
   ],
   "source": [
    "print(topic.lower())"
   ]
  },
  {
   "cell_type": "code",
   "execution_count": 40,
   "metadata": {},
   "outputs": [
    {
     "name": "stdout",
     "output_type": "stream",
     "text": "FOUNDATIONS OF DATA SCIENCE\n"
    }
   ],
   "source": [
    "print(topic.upper())"
   ]
  },
  {
   "cell_type": "code",
   "execution_count": 41,
   "metadata": {},
   "outputs": [
    {
     "name": "stdout",
     "output_type": "stream",
     "text": "False\n"
    }
   ],
   "source": [
    "print(topic.islower())"
   ]
  },
  {
   "cell_type": "code",
   "execution_count": 42,
   "metadata": {},
   "outputs": [
    {
     "name": "stdout",
     "output_type": "stream",
     "text": "-1\n"
    }
   ],
   "source": [
    "print(topic.find(\"AI\"))"
   ]
  },
  {
   "cell_type": "code",
   "execution_count": 43,
   "metadata": {},
   "outputs": [
    {
     "name": "stdout",
     "output_type": "stream",
     "text": "15\n"
    }
   ],
   "source": [
    "print(topic.find(\"Data\"))"
   ]
  },
  {
   "cell_type": "code",
   "execution_count": 44,
   "metadata": {},
   "outputs": [
    {
     "name": "stdout",
     "output_type": "stream",
     "text": "Foundations of Data Engineering\n"
    }
   ],
   "source": [
    "print(topic.replace(\"Science\", \"Engineering\"))"
   ]
  },
  {
   "cell_type": "code",
   "execution_count": 45,
   "metadata": {},
   "outputs": [
    {
     "name": "stdout",
     "output_type": "stream",
     "text": "<class 'float'>\n"
    }
   ],
   "source": [
    "print(type(golden_ratio))"
   ]
  },
  {
   "cell_type": "code",
   "execution_count": 46,
   "metadata": {},
   "outputs": [
    {
     "name": "stdout",
     "output_type": "stream",
     "text": "False\n"
    }
   ],
   "source": [
    "print(golden_ratio.is_integer())"
   ]
  },
  {
   "cell_type": "code",
   "execution_count": 47,
   "metadata": {},
   "outputs": [
    {
     "name": "stdout",
     "output_type": "stream",
     "text": "(3642617345667313, 2251799813685248)\n"
    }
   ],
   "source": [
    "print(golden_ratio.as_integer_ratio())"
   ]
  },
  {
   "cell_type": "code",
   "execution_count": 48,
   "metadata": {},
   "outputs": [
    {
     "name": "stdout",
     "output_type": "stream",
     "text": "1.6176470588235294\n"
    }
   ],
   "source": [
    "print(3642617345667313 / 2251799813685248)"
   ]
  },
  {
   "cell_type": "code",
   "execution_count": 49,
   "metadata": {},
   "outputs": [
    {
     "name": "stdout",
     "output_type": "stream",
     "text": "1.6176470588235294\n"
    }
   ],
   "source": [
    "print(golden_ratio)"
   ]
  },
  {
   "cell_type": "code",
   "execution_count": 50,
   "metadata": {},
   "outputs": [
    {
     "name": "stdout",
     "output_type": "stream",
     "text": "1 1.6176470588235294\n"
    }
   ],
   "source": [
    "print(55 // 34, 55 / 34)\n"
   ]
  },
  {
   "cell_type": "code",
   "execution_count": 51,
   "metadata": {},
   "outputs": [
    {
     "name": "stdout",
     "output_type": "stream",
     "text": "21\n"
    }
   ],
   "source": [
    "print(55 % 34)"
   ]
  },
  {
   "cell_type": "code",
   "execution_count": 52,
   "metadata": {},
   "outputs": [
    {
     "name": "stdout",
     "output_type": "stream",
     "text": "8\n"
    }
   ],
   "source": [
    "print(2 ** 3)"
   ]
  },
  {
   "cell_type": "markdown",
   "metadata": {},
   "source": [
    "# Loops and Conditional Blocks"
   ]
  },
  {
   "cell_type": "code",
   "execution_count": 54,
   "metadata": {},
   "outputs": [
    {
     "name": "stdout",
     "output_type": "stream",
     "text": "You are studing enough\n"
    }
   ],
   "source": [
    "if hours_per_week > 10:\n",
    "    print(\"You are studing enough\")\n",
    "else:\n",
    "    print(\"Need to study more :(\")"
   ]
  },
  {
   "cell_type": "code",
   "execution_count": 55,
   "metadata": {},
   "outputs": [
    {
     "name": "stdout",
     "output_type": "stream",
     "text": "0\n1\n2\n3\n4\n5\n6\n7\n8\n9\n"
    }
   ],
   "source": [
    "for i in range(0, 10):\n",
    "    print(i)"
   ]
  },
  {
   "cell_type": "code",
   "execution_count": 57,
   "metadata": {},
   "outputs": [],
   "source": [
    "range?"
   ]
  },
  {
   "cell_type": "code",
   "execution_count": 58,
   "metadata": {},
   "outputs": [
    {
     "name": "stdout",
     "output_type": "stream",
     "text": "0 0\n1 1\n2 4\n3 9\n4 16\n"
    }
   ],
   "source": [
    "for i in range(5):\n",
    "    print(i, i**2)"
   ]
  },
  {
   "cell_type": "code",
   "execution_count": 64,
   "metadata": {},
   "outputs": [
    {
     "name": "stdout",
     "output_type": "stream",
     "text": "2\n3\n5\n8\n13\n21\n34\n55\n89\n144\nLines printed 10\n"
    }
   ],
   "source": [
    "#Fibonaci sequence\n",
    "a = 1\n",
    "b = 1\n",
    "l = 0\n",
    "for i in range(10):\n",
    "    temp = a + b\n",
    "    l += 1\n",
    "    a = b\n",
    "    b = temp\n",
    "    print(temp)\n",
    "print(\"Lines printed\", l)"
   ]
  },
  {
   "cell_type": "markdown",
   "metadata": {},
   "source": [
    "# Functions"
   ]
  },
  {
   "cell_type": "code",
   "execution_count": 65,
   "metadata": {},
   "outputs": [],
   "source": [
    "def fibonacci(pos):\n",
    "    a = 1\n",
    "    b = 1\n",
    "    for i in range(pos):\n",
    "        temp = a + b\n",
    "        a = b\n",
    "        b = temp\n",
    "    return temp"
   ]
  },
  {
   "cell_type": "code",
   "execution_count": 66,
   "metadata": {},
   "outputs": [
    {
     "data": {
      "text/plain": "8"
     },
     "execution_count": 66,
     "metadata": {},
     "output_type": "execute_result"
    }
   ],
   "source": [
    "fibonacci(4)"
   ]
  },
  {
   "cell_type": "code",
   "execution_count": 67,
   "metadata": {},
   "outputs": [
    {
     "name": "stdout",
     "output_type": "stream",
     "text": "55 34\n"
    }
   ],
   "source": [
    "print(fibonacci(8), fibonacci(7))"
   ]
  },
  {
   "cell_type": "code",
   "execution_count": 68,
   "metadata": {},
   "outputs": [
    {
     "name": "stdout",
     "output_type": "stream",
     "text": "89 144\n"
    }
   ],
   "source": [
    "print(fibonacci(9), fibonacci(10))"
   ]
  },
  {
   "cell_type": "code",
   "execution_count": 69,
   "metadata": {},
   "outputs": [
    {
     "name": "stdout",
     "output_type": "stream",
     "text": "0.6180555555555556\n"
    }
   ],
   "source": [
    "print(89 / 144)"
   ]
  },
  {
   "cell_type": "code",
   "execution_count": 73,
   "metadata": {},
   "outputs": [
    {
     "name": "stdout",
     "output_type": "stream",
     "text": "2 1.5\n3 1.6666666666666667\n4 1.6\n5 1.625\n6 1.6153846153846154\n7 1.619047619047619\n8 1.6176470588235294\n9 1.6181818181818182\n10 1.6179775280898876\n11 1.6180555555555556\n12 1.6180257510729614\n13 1.6180371352785146\n14 1.618032786885246\n15 1.618034447821682\n16 1.6180338134001253\n17 1.618034055727554\n18 1.6180339631667064\n19 1.6180339985218033\n20 1.618033985017358\n21 1.6180339901755971\n22 1.618033988205325\n23 1.618033988957902\n24 1.6180339886704431\n25 1.6180339887802426\n26 1.618033988738303\n27 1.6180339887543225\n28 1.6180339887482036\n29 1.6180339887505408\n30 1.6180339887496482\n31 1.618033988749989\n32 1.618033988749859\n33 1.6180339887499087\n34 1.6180339887498896\n35 1.618033988749897\n36 1.618033988749894\n37 1.6180339887498951\n38 1.6180339887498947\n39 1.618033988749895\n40 1.618033988749895\n41 1.618033988749895\n42 1.618033988749895\n43 1.618033988749895\n44 1.618033988749895\n45 1.618033988749895\n46 1.618033988749895\n47 1.618033988749895\n48 1.618033988749895\n49 1.618033988749895\n50 1.618033988749895\n51 1.618033988749895\n52 1.618033988749895\n53 1.618033988749895\n54 1.618033988749895\n55 1.618033988749895\n56 1.618033988749895\n57 1.618033988749895\n58 1.618033988749895\n59 1.618033988749895\n60 1.618033988749895\n61 1.618033988749895\n62 1.618033988749895\n63 1.618033988749895\n64 1.618033988749895\n65 1.618033988749895\n66 1.618033988749895\n67 1.618033988749895\n68 1.618033988749895\n69 1.618033988749895\n70 1.618033988749895\n71 1.618033988749895\n72 1.618033988749895\n73 1.618033988749895\n74 1.618033988749895\n75 1.618033988749895\n76 1.618033988749895\n77 1.618033988749895\n78 1.618033988749895\n79 1.618033988749895\n80 1.618033988749895\n81 1.618033988749895\n82 1.618033988749895\n83 1.618033988749895\n84 1.618033988749895\n85 1.618033988749895\n86 1.618033988749895\n87 1.618033988749895\n88 1.618033988749895\n89 1.618033988749895\n90 1.618033988749895\n91 1.618033988749895\n92 1.618033988749895\n93 1.618033988749895\n94 1.618033988749895\n95 1.618033988749895\n96 1.618033988749895\n97 1.618033988749895\n98 1.618033988749895\n99 1.618033988749895\n100 1.618033988749895\n101 1.618033988749895\n102 1.618033988749895\n103 1.618033988749895\n104 1.618033988749895\n105 1.618033988749895\n106 1.618033988749895\n107 1.618033988749895\n108 1.618033988749895\n109 1.618033988749895\n110 1.618033988749895\n111 1.618033988749895\n112 1.618033988749895\n113 1.618033988749895\n114 1.618033988749895\n115 1.618033988749895\n116 1.618033988749895\n117 1.618033988749895\n118 1.618033988749895\n119 1.618033988749895\n120 1.618033988749895\n121 1.618033988749895\n122 1.618033988749895\n123 1.618033988749895\n124 1.618033988749895\n125 1.618033988749895\n126 1.618033988749895\n127 1.618033988749895\n128 1.618033988749895\n129 1.618033988749895\n130 1.618033988749895\n131 1.618033988749895\n132 1.618033988749895\n133 1.618033988749895\n134 1.618033988749895\n135 1.618033988749895\n136 1.618033988749895\n137 1.618033988749895\n138 1.618033988749895\n139 1.618033988749895\n140 1.618033988749895\n141 1.618033988749895\n142 1.618033988749895\n143 1.618033988749895\n144 1.618033988749895\n145 1.618033988749895\n146 1.618033988749895\n147 1.618033988749895\n148 1.618033988749895\n149 1.618033988749895\n150 1.618033988749895\n151 1.618033988749895\n152 1.618033988749895\n153 1.618033988749895\n154 1.618033988749895\n155 1.618033988749895\n156 1.618033988749895\n157 1.618033988749895\n158 1.618033988749895\n159 1.618033988749895\n160 1.618033988749895\n161 1.618033988749895\n162 1.618033988749895\n163 1.618033988749895\n164 1.618033988749895\n165 1.618033988749895\n166 1.618033988749895\n167 1.618033988749895\n168 1.618033988749895\n169 1.618033988749895\n170 1.618033988749895\n171 1.618033988749895\n172 1.618033988749895\n173 1.618033988749895\n174 1.618033988749895\n175 1.618033988749895\n176 1.618033988749895\n177 1.618033988749895\n178 1.618033988749895\n179 1.618033988749895\n180 1.618033988749895\n181 1.618033988749895\n182 1.618033988749895\n183 1.618033988749895\n184 1.618033988749895\n185 1.618033988749895\n186 1.618033988749895\n187 1.618033988749895\n188 1.618033988749895\n189 1.618033988749895\n190 1.618033988749895\n191 1.618033988749895\n192 1.618033988749895\n193 1.618033988749895\n194 1.618033988749895\n195 1.618033988749895\n196 1.618033988749895\n197 1.618033988749895\n198 1.618033988749895\n199 1.618033988749895\n200 1.618033988749895\n201 1.618033988749895\n202 1.618033988749895\n203 1.618033988749895\n204 1.618033988749895\n205 1.618033988749895\n206 1.618033988749895\n207 1.618033988749895\n208 1.618033988749895\n209 1.618033988749895\n210 1.618033988749895\n211 1.618033988749895\n212 1.618033988749895\n213 1.618033988749895\n214 1.618033988749895\n215 1.618033988749895\n216 1.618033988749895\n217 1.618033988749895\n218 1.618033988749895\n219 1.618033988749895\n220 1.618033988749895\n221 1.618033988749895\n222 1.618033988749895\n223 1.618033988749895\n224 1.618033988749895\n225 1.618033988749895\n226 1.618033988749895\n227 1.618033988749895\n228 1.618033988749895\n229 1.618033988749895\n230 1.618033988749895\n231 1.618033988749895\n232 1.618033988749895\n233 1.618033988749895\n234 1.618033988749895\n235 1.618033988749895\n236 1.618033988749895\n237 1.618033988749895\n238 1.618033988749895\n239 1.618033988749895\n240 1.618033988749895\n241 1.618033988749895\n242 1.618033988749895\n243 1.618033988749895\n244 1.618033988749895\n245 1.618033988749895\n246 1.618033988749895\n247 1.618033988749895\n248 1.618033988749895\n249 1.618033988749895\n250 1.618033988749895\n251 1.618033988749895\n252 1.618033988749895\n253 1.618033988749895\n254 1.618033988749895\n255 1.618033988749895\n256 1.618033988749895\n257 1.618033988749895\n258 1.618033988749895\n259 1.618033988749895\n260 1.618033988749895\n261 1.618033988749895\n262 1.618033988749895\n263 1.618033988749895\n264 1.618033988749895\n265 1.618033988749895\n266 1.618033988749895\n267 1.618033988749895\n268 1.618033988749895\n269 1.618033988749895\n270 1.618033988749895\n271 1.618033988749895\n272 1.618033988749895\n273 1.618033988749895\n274 1.618033988749895\n275 1.618033988749895\n276 1.618033988749895\n277 1.618033988749895\n278 1.618033988749895\n279 1.618033988749895\n280 1.618033988749895\n281 1.618033988749895\n282 1.618033988749895\n283 1.618033988749895\n284 1.618033988749895\n285 1.618033988749895\n286 1.618033988749895\n287 1.618033988749895\n288 1.618033988749895\n289 1.618033988749895\n290 1.618033988749895\n291 1.618033988749895\n292 1.618033988749895\n293 1.618033988749895\n294 1.618033988749895\n295 1.618033988749895\n296 1.618033988749895\n297 1.618033988749895\n298 1.618033988749895\n299 1.618033988749895\n"
    }
   ],
   "source": [
    "# check golden ratio\n",
    "for i in range(2, 300):\n",
    "    ratio = fibonacci(i) / fibonacci(i - 1)\n",
    "    print(i, ratio)"
   ]
  },
  {
   "cell_type": "code",
   "execution_count": 74,
   "metadata": {},
   "outputs": [],
   "source": [
    "def fibonacci_relative(pos, a, b):\n",
    "    for i in range(pos):\n",
    "        temp = a + b\n",
    "        a = b\n",
    "        b = temp \n",
    "    return temp"
   ]
  },
  {
   "cell_type": "code",
   "execution_count": 76,
   "metadata": {},
   "outputs": [
    {
     "data": {
      "text/plain": "377"
     },
     "execution_count": 76,
     "metadata": {},
     "output_type": "execute_result"
    }
   ],
   "source": [
    "fibonacci_relative(4, 34, 55)"
   ]
  },
  {
   "cell_type": "code",
   "execution_count": 77,
   "metadata": {},
   "outputs": [
    {
     "data": {
      "text/plain": "5"
     },
     "execution_count": 77,
     "metadata": {},
     "output_type": "execute_result"
    }
   ],
   "source": [
    "fibonacci_relative(3, 1, 1)"
   ]
  },
  {
   "cell_type": "code",
   "execution_count": 80,
   "metadata": {},
   "outputs": [
    {
     "data": {
      "text/plain": "144"
     },
     "execution_count": 80,
     "metadata": {},
     "output_type": "execute_result"
    }
   ],
   "source": [
    "fibonacci_relative(2, 34, 55)"
   ]
  },
  {
   "cell_type": "code",
   "execution_count": 81,
   "metadata": {},
   "outputs": [],
   "source": [
    "def fibonacci_old(pos, a = 1, b = 1):\n",
    "    return fibonacci_relative(pos, a, b)"
   ]
  },
  {
   "cell_type": "code",
   "execution_count": 82,
   "metadata": {},
   "outputs": [
    {
     "data": {
      "text/plain": "5"
     },
     "execution_count": 82,
     "metadata": {},
     "output_type": "execute_result"
    }
   ],
   "source": [
    "fibonacci_old(3)"
   ]
  },
  {
   "cell_type": "code",
   "execution_count": 85,
   "metadata": {},
   "outputs": [],
   "source": [
    "def fibnacci_rec(pos, a = 1, b = 1):\n",
    "    if(pos > 1):\n",
    "        return fibnacci_rec(pos - 1, b, a + b)\n",
    "    else:\n",
    "        return a + b\n",
    "    "
   ]
  },
  {
   "cell_type": "code",
   "execution_count": 86,
   "metadata": {},
   "outputs": [
    {
     "data": {
      "text/plain": "5"
     },
     "execution_count": 86,
     "metadata": {},
     "output_type": "execute_result"
    }
   ],
   "source": [
    "fibnacci_rec(3)"
   ]
  },
  {
   "cell_type": "code",
   "execution_count": null,
   "metadata": {},
   "outputs": [],
   "source": []
  }
 ],
 "metadata": {
  "kernelspec": {
   "display_name": "Python 3",
   "language": "python",
   "name": "python3"
  },
  "language_info": {
   "codemirror_mode": {
    "name": "ipython",
    "version": 3
   },
   "file_extension": ".py",
   "mimetype": "text/x-python",
   "name": "python",
   "nbconvert_exporter": "python",
   "pygments_lexer": "ipython3",
   "version": "3.7.5-final"
  },
  "pycharm": {
   "stem_cell": {
    "cell_type": "raw",
    "metadata": {
     "collapsed": false
    },
    "source": []
   }
  }
 },
 "nbformat": 4,
 "nbformat_minor": 4
}