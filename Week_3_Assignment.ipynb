{
  "nbformat": 4,
  "nbformat_minor": 0,
  "metadata": {
    "colab": {
      "name": "Week_3_Assignment.ipynb",
      "provenance": [],
      "private_outputs": true,
      "collapsed_sections": []
    },
    "kernelspec": {
      "name": "python3",
      "display_name": "Python 3"
    }
  },
  "cells": [
    {
      "cell_type": "markdown",
      "metadata": {
        "id": "CgavUsal2ECL",
        "colab_type": "text"
      },
      "source": [
        "# Assignment 1"
      ]
    },
    {
      "cell_type": "markdown",
      "metadata": {
        "id": "XUs6rhz2SEAD",
        "colab_type": "text"
      },
      "source": [
        "\n",
        "## Problem 1\n",
        "Prompt the user \"Enter your weight (in kgs)\" and record weight"
      ]
    },
    {
      "cell_type": "code",
      "metadata": {
        "id": "gKtP2qMISHtl",
        "colab_type": "code",
        "colab": {}
      },
      "source": [
        "weight = input(\"Enter your weight (in kgs)\")\n",
        "weight_float = float(weight)"
      ],
      "execution_count": 0,
      "outputs": []
    },
    {
      "cell_type": "markdown",
      "metadata": {
        "id": "BlCHqebc13LO",
        "colab_type": "text"
      },
      "source": [
        "## Problem 2 \n",
        "Prompt the user \"What is your preferred unit of height? Type \"F\" for feet and \"M\" for meters\"\n",
        "and record the preference"
      ]
    },
    {
      "cell_type": "code",
      "metadata": {
        "id": "1W8HfMfkSuGs",
        "colab_type": "code",
        "colab": {}
      },
      "source": [
        "unit_of_height = input(\"What is your preferred unit of heigh? Type \\\"F\\\" for feet and \\\"M\\\" for meters \")"
      ],
      "execution_count": 0,
      "outputs": []
    },
    {
      "cell_type": "markdown",
      "metadata": {
        "id": "q_rQrUFn276k",
        "colab_type": "text"
      },
      "source": [
        "## Problem 3\n",
        "If user says \"F\" then prompt user \"You will enter your height given as feet and inches. First enter feet\" and record feet and then prompt user \"Now enter inches\" and record inches"
      ]
    },
    {
      "cell_type": "code",
      "metadata": {
        "id": "-86bOl0q2DK2",
        "colab_type": "code",
        "colab": {}
      },
      "source": [
        "if unit_of_height.upper() == \"F\":\n",
        "  feets = input(\"You will enter your height given as feet and inches. Enter your feet \")\n",
        "  inches = input(\"Now enter inches \")"
      ],
      "execution_count": 0,
      "outputs": []
    },
    {
      "cell_type": "markdown",
      "metadata": {
        "id": "STPSzlD231L8",
        "colab_type": "text"
      },
      "source": [
        "## Problem 4\n",
        "If user says \"M\" then prompt user \"What is your height in meters\" and record height in\n",
        "meters"
      ]
    },
    {
      "cell_type": "code",
      "metadata": {
        "id": "mG2SamTt3rDx",
        "colab_type": "code",
        "colab": {}
      },
      "source": [
        "if unit_of_height.upper() == \"M\":\n",
        "  meters = input(\"What is your height in meters \")"
      ],
      "execution_count": 0,
      "outputs": []
    },
    {
      "cell_type": "markdown",
      "metadata": {
        "id": "l7DtK9FL412F",
        "colab_type": "text"
      },
      "source": [
        "## Problem 5\n",
        "If user had chosen \"F\" then convert height into meters"
      ]
    },
    {
      "cell_type": "code",
      "metadata": {
        "id": "0ngjSD074GbA",
        "colab_type": "code",
        "colab": {}
      },
      "source": [
        "if unit_of_height.upper() == \"F\":\n",
        "  # feets to inches 1 feet to 12 inch \n",
        "  feets_int = int(feets)\n",
        "  inches_int = int(inches)\n",
        "  inches_int = inches_int + (feets_int * 12)\n",
        "  print(\"LOG: total inches\", inches_int)\n",
        "  # convert inches to meters\n",
        "  meters_float = inches_int / 39.37\n",
        "  print(\"LOG: meters\", meters_float)\n",
        "else:\n",
        "  meters_float = float(meters)\n",
        "\n"
      ],
      "execution_count": 0,
      "outputs": []
    },
    {
      "cell_type": "markdown",
      "metadata": {
        "id": "mZx75vRw6hCO",
        "colab_type": "text"
      },
      "source": [
        "## Problem 6\n",
        "Compute BMI using the following formula"
      ]
    },
    {
      "cell_type": "code",
      "metadata": {
        "id": "JtdjS66F5Ux5",
        "colab_type": "code",
        "colab": {}
      },
      "source": [
        "bmi = weight_float / (meters_float ** 2)\n",
        "print(\"LOG: bmi\", bmi)"
      ],
      "execution_count": 0,
      "outputs": []
    },
    {
      "cell_type": "markdown",
      "metadata": {
        "id": "H04Ubx5D7Dta",
        "colab_type": "text"
      },
      "source": [
        "## Problem 7\n",
        "Depending on the value of BMI, report the user's type given by the following table:\n",
        "- BMI < 18.5 : UNDERWEIGHT\n",
        "- 18.5 <= BMI < 25 : NORMAL\n",
        "- 25 <= BMI < 30 : OVERWEIGHT\n",
        "- BMI > 30 : VERY-OVERWEIGHT"
      ]
    },
    {
      "cell_type": "code",
      "metadata": {
        "id": "ZGoDVL8U6s_3",
        "colab_type": "code",
        "colab": {}
      },
      "source": [
        "if bmi < 18.5:\n",
        "  print(\"UNDERWEIGHT\")\n",
        "elif bmi >= 18.5 and bmi < 25:\n",
        "  print(\"NORMAL\")\n",
        "elif bmi >= 25 and bmi < 30:\n",
        "  print(\"OVERWEIGHT\")\n",
        "elif bmi >= 30:\n",
        "  print(\"VERY-OVERWEIGHT\")"
      ],
      "execution_count": 0,
      "outputs": []
    },
    {
      "cell_type": "code",
      "metadata": {
        "id": "H3Pil0bx7_oq",
        "colab_type": "code",
        "colab": {}
      },
      "source": [
        ""
      ],
      "execution_count": 0,
      "outputs": []
    }
  ]
}